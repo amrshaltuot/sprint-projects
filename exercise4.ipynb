{
 "cells": [
  {
   "cell_type": "markdown",
   "metadata": {
    "id": "IU6a3N7osOjZ"
   },
   "source": [
    "## Logistic Regression"
   ]
  },
  {
   "cell_type": "code",
   "execution_count": 5,
   "metadata": {
    "id": "wX-soNv0pOJl"
   },
   "outputs": [],
   "source": [
    "import numpy as np\n",
    "\n",
    "def sigmoid(x):\n",
    "    return 1 / (1 + np.exp(-x))\n",
    "\n",
    "def net_input(theta, x):\n",
    "    net =np.dot(x,theta)\n",
    "    return net\n",
    "\n",
    "def predict_prob(theta, x):\n",
    "    predicted_probs = sigmoid(net_input(theta,x)) # Y_hat\n",
    "    return predicted_probs\n",
    "\n",
    "def fit(x, y):\n",
    "    L = 0.001  # The learning Rate\n",
    "    epochs = 200000  # The number of iterations to perform gradient descent\n",
    "    theta = np.zeros((x.shape[1],1))\n",
    "    Y_hat=predict_prob(theta, x)\n",
    "    m=x.shape[0]\n",
    "    for i in range(epochs):\n",
    "        dw=(1/m)*np.dot(x.T,predict_prob(theta, x) - y)\n",
    "        theta=theta-L*dw\n",
    "\n",
    "    return theta\n",
    "\n",
    "\n",
    "def predict_classes(theta,x):\n",
    "    predicted_classes =np.round(predict_prob(theta,x))\n",
    "    return predicted_classes"
   ]
  },
  {
   "cell_type": "code",
   "execution_count": 6,
   "metadata": {
    "colab": {
     "base_uri": "https://localhost:8080/",
     "height": 582
    },
    "id": "uSGu108ApZ5l",
    "outputId": "1c26b621-b21f-4e2e-aeb3-d891ab8d9723"
   },
   "outputs": [
    {
     "data": {
      "image/png": "[encoded data removed]",
      "text/plain": [
       "<Figure size 432x288 with 1 Axes>"
      ]
     },
     "metadata": {
      "needs_background": "light"
     },
     "output_type": "display_data"
    },
    {
     "name": "stderr",
     "output_type": "stream",
     "text": [
      "C:\\Users\\amrsh\\AppData\\Local\\Temp\\ipykernel_9656\\2016579258.py:21: FutureWarning: Support for multi-dimensional indexing (e.g. `obj[:, None]`) is deprecated and will be removed in a future version.  Convert to a numpy array before indexing instead.\n",
      "  Y = Y[:, np.newaxis]\n"
     ]
    },
    {
     "data": {
      "image/png": "[encoded data removed]",
      "text/plain": [
       "<Figure size 432x288 with 1 Axes>"
      ]
     },
     "metadata": {
      "needs_background": "light"
     },
     "output_type": "display_data"
    },
    {
     "name": "stdout",
     "output_type": "stream",
     "text": [
      "91.91919191919192\n"
     ]
    }
   ],
   "source": [
    "import numpy as np\n",
    "import matplotlib.pyplot as plt\n",
    "import pandas as pd\n",
    "\n",
    "data = pd.read_csv('F:/sprint course/session 5/Session 5/marks.csv')\n",
    "X = data.iloc[:, :-1]\n",
    "Y = data.iloc[:, -1]\n",
    "\n",
    "# filter out the applicants that got admitted\n",
    "admitted = data.loc[Y == 1]\n",
    "# filter out the applicants that din't get admission\n",
    "not_admitted = data.loc[Y == 0]\n",
    "\n",
    "# plots\n",
    "plt.scatter(admitted.iloc[:, 0], admitted.iloc[:, 1], s=10, label='Admitted')\n",
    "plt.scatter(not_admitted.iloc[:, 0], not_admitted.iloc[:, 1], s=10, label='Not Admitted')\n",
    "plt.show()\n",
    "\n",
    "#prepare data to be fitted\n",
    "X = np.c_[np.ones((X.shape[0], 1)), X]\n",
    "Y = Y[:, np.newaxis]\n",
    "theta = fit(X, Y)\n",
    "\n",
    "#plot decision boundary\n",
    "x_values = [np.min(X[:, 1] - 5), np.max(X[:, 2] + 5)]\n",
    "theta = theta.flatten()\n",
    "y_values = - (theta[0] + np.dot(theta[1], x_values)) / theta[2]\n",
    "plt.plot(x_values, y_values, label='Decision Boundary')\n",
    "plt.xlabel('Marks in 1st Exam')\n",
    "plt.ylabel('Marks in 2nd Exam')\n",
    "plt.scatter(admitted.iloc[:, 0], admitted.iloc[:, 1], s=10, label='Admitted')\n",
    "plt.scatter(not_admitted.iloc[:, 0], not_admitted.iloc[:, 1], s=10, label='Not Admitted')\n",
    "plt.show()\n",
    "\n",
    "actual_classes = Y.flatten()\n",
    "predicted_classes = predict_classes(theta,X)\n",
    "predicted_classes = predicted_classes.flatten()\n",
    "accuracy = np.mean(predicted_classes == actual_classes)\n",
    "print(accuracy * 100)\n"
   ]
  },
  {
   "cell_type": "markdown",
   "metadata": {
    "id": "q4-P7tQisLQq"
   },
   "source": [
    "## Decision Trees"
   ]
  },
  {
   "cell_type": "code",
   "execution_count": 7,
   "metadata": {
    "colab": {
     "base_uri": "https://localhost:8080/",
     "height": 305
    },
    "id": "w_S-ZKylrlAd",
    "outputId": "c0947236-24fe-4581-bd0f-47b8262e3942"
   },
   "outputs": [
    {
     "ename": "ModuleNotFoundError",
     "evalue": "No module named 'graphviz'",
     "output_type": "error",
     "traceback": [
      "\u001b[1;31m---------------------------------------------------------------------------\u001b[0m",
      "\u001b[1;31mModuleNotFoundError\u001b[0m                       Traceback (most recent call last)",
      "Input \u001b[1;32mIn [7]\u001b[0m, in \u001b[0;36m<cell line: 6>\u001b[1;34m()\u001b[0m\n\u001b[0;32m      4\u001b[0m \u001b[38;5;28;01mfrom\u001b[39;00m \u001b[38;5;21;01msklearn\u001b[39;00m\u001b[38;5;21;01m.\u001b[39;00m\u001b[38;5;21;01mmodel_selection\u001b[39;00m \u001b[38;5;28;01mimport\u001b[39;00m train_test_split\n\u001b[0;32m      5\u001b[0m \u001b[38;5;28;01mimport\u001b[39;00m \u001b[38;5;21;01mmatplotlib\u001b[39;00m\u001b[38;5;21;01m.\u001b[39;00m\u001b[38;5;21;01mpyplot\u001b[39;00m \u001b[38;5;28;01mas\u001b[39;00m \u001b[38;5;21;01mplt\u001b[39;00m\n\u001b[1;32m----> 6\u001b[0m \u001b[38;5;28;01mimport\u001b[39;00m \u001b[38;5;21;01mgraphviz\u001b[39;00m\n\u001b[0;32m      7\u001b[0m \u001b[38;5;28;01mimport\u001b[39;00m \u001b[38;5;21;01mos\u001b[39;00m\n\u001b[0;32m      9\u001b[0m iris \u001b[38;5;241m=\u001b[39m load_iris()\n",
      "\u001b[1;31mModuleNotFoundError\u001b[0m: No module named 'graphviz'"
     ]
    }
   ],
   "source": [
    "from sklearn.datasets import load_iris\n",
    "from sklearn import tree\n",
    "from sklearn.metrics import classification_report, accuracy_score\n",
    "from sklearn.model_selection import train_test_split\n",
    "import matplotlib.pyplot as plt\n",
    "import graphviz\n",
    "import os\n",
    "\n",
    "iris = load_iris()\n",
    "X_train, X_test, y_train, y_test = train_test_split(iris.data, iris.target, test_size=0.4, random_state=17)\n",
    "\n",
    "clf = tree.DecisionTreeClassifier()\n",
    "clf = clf.fit(X_train, y_train)\n",
    "y_pred = clf.predict(X_test)\n",
    "\n",
    "print('Accuracy: {0:.4f}'.format(accuracy_score(y_test, y_pred)))\n",
    "\n",
    "\n",
    "dot = tree.export_graphviz(clf, feature_names=iris.feature_names, class_names=iris.target_names, filled=True, rounded=True, special_characters=True)\n",
    "graph = graphviz.Source(dot)\n",
    "graph.format = 'png'\n",
    "graph.render('iris', view=True)\n",
    "\n",
    "\n",
    "# List of values to try for max_depth:\n",
    "max_depth_range = list(range(1, 6))# List to store the average RMSE for each value of max_depth:\n",
    "accuracy = []\n",
    "for depth in max_depth_range:\n",
    "    clf = tree.DecisionTreeClassifier(max_depth = depth)\n",
    "    clf.fit(X_train, y_train)\n",
    "    score = clf.score(X_test, y_test)\n",
    "    accuracy.append(score)\n",
    "\n",
    "plt.scatter(max_depth_range, accuracy)\n",
    "plt.xlabel('Max Depth Range', fontsize = 20)\n",
    "plt.ylabel('Accuarcy', fontsize = 20)\n",
    "plt.plot(max_depth_range, accuracy, color='red', linewidth = 3)\n",
    "plt.show()\n"
   ]
  },
  {
   "cell_type": "markdown",
   "metadata": {
    "id": "xOrKHHgrsZOS"
   },
   "source": [
    "## Adaboost"
   ]
  },
  {
   "cell_type": "code",
   "execution_count": 8,
   "metadata": {
    "colab": {
     "base_uri": "https://localhost:8080/"
    },
    "id": "X4_15k28scae",
    "outputId": "046fdc58-f835-41ca-d474-958c81208329"
   },
   "outputs": [
    {
     "name": "stdout",
     "output_type": "stream",
     "text": [
      "The achieved accuracy using Adaboost is 93.33333333333333\n",
      "The achieved accuracy using Decision Tree is 61.66666666666667\n"
     ]
    }
   ],
   "source": [
    "import numpy as np\n",
    "import matplotlib.pyplot as plt\n",
    "import pandas as pd\n",
    "from sklearn import tree\n",
    "from sklearn.model_selection import train_test_split\n",
    "from sklearn.neighbors import KNeighborsClassifier\n",
    "from sklearn.preprocessing import StandardScaler\n",
    "from sklearn.ensemble import AdaBoostClassifier\n",
    "from sklearn.tree import DecisionTreeClassifier\n",
    "#import graphviz\n",
    "\n",
    "dataset = pd.read_csv('F:/sprint course/session 5/Session 5/iris.csv')\n",
    "\n",
    "X = dataset.iloc[:, :-1].values\n",
    "y = dataset.iloc[:, 4].values\n",
    "X_train, X_test, y_train, y_test = train_test_split(X, y, test_size=0.4)\n",
    "\n",
    "bdt = AdaBoostClassifier(DecisionTreeClassifier(max_depth=1),\n",
    "                         algorithm=\"SAMME.R\",\n",
    "                         n_estimators=100)\n",
    "\n",
    "scaler = StandardScaler()\n",
    "scaler.fit(X_train)\n",
    "\n",
    "X_train = scaler.transform(X_train)\n",
    "X_test = scaler.transform(X_test)\n",
    "\n",
    "bdt.fit(X_train,y_train)\n",
    "y_prediction = bdt.predict(X_test)\n",
    "accuracy=np.mean(y_prediction == y_test)*100\n",
    "print(\"The achieved accuracy using Adaboost is \" + str(accuracy))\n",
    "error = []\n",
    "clf = tree.DecisionTreeClassifier(max_depth=1)\n",
    "clf.fit(X_train,y_train)\n",
    "y_prediction = clf.predict(X_test)\n",
    "accuracy=np.mean(y_prediction == y_test)*100\n",
    "print(\"The achieved accuracy using Decision Tree is \" + str(accuracy))\n"
   ]
  }
 ],
 "metadata": {
  "colab": {
   "name": "S5 - Machine Learning Basics 2.ipynb",
   "provenance": []
  },
  "kernelspec": {
   "display_name": "Python 3 (ipykernel)",
   "language": "python",
   "name": "python3"
  },
  "language_info": {
   "codemirror_mode": {
    "name": "ipython",
    "version": 3
   },
   "file_extension": ".py",
   "mimetype": "text/x-python",
   "name": "python",
   "nbconvert_exporter": "python",
   "pygments_lexer": "ipython3",
   "version": "3.9.12"
  }
 },
 "nbformat": 4,
 "nbformat_minor": 1
}
