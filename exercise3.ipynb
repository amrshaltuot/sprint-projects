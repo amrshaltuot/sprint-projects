{
 "cells": [
  {
   "cell_type": "markdown",
   "metadata": {
    "id": "_iy0pyqlqwnV"
   },
   "source": [
    "## Import libraries"
   ]
  },
  {
   "cell_type": "code",
   "execution_count": 1,
   "metadata": {
    "id": "nC96btiHqke-"
   },
   "outputs": [],
   "source": [
    "import numpy as np\n",
    "import pandas as pd\n",
    "import matplotlib.pyplot as plt\n",
    "from sklearn import metrics"
   ]
  },
  {
   "cell_type": "markdown",
   "metadata": {
    "id": "rZJ5GCvOq2jK"
   },
   "source": [
    "## Load the data"
   ]
  },
  {
   "cell_type": "code",
   "execution_count": 2,
   "metadata": {
    "colab": {
     "base_uri": "https://localhost:8080/"
    },
    "id": "vdnQzKVhq3Mf",
    "outputId": "56932fbe-b0bf-461b-87c8-09e990baadc7"
   },
   "outputs": [
    {
     "name": "stdout",
     "output_type": "stream",
     "text": [
      "               SAT          IQ        GPA\n",
      "count    84.000000   84.000000  84.000000\n",
      "mean   1845.273810  111.928571   3.330238\n",
      "std     104.530661    8.050721   0.271617\n",
      "min    1634.000000   96.000000   2.400000\n",
      "25%    1772.000000  106.000000   3.190000\n",
      "50%    1846.000000  112.000000   3.380000\n",
      "75%    1934.000000  119.000000   3.502500\n",
      "max    2050.000000  128.000000   3.810000\n",
      "(84, 3)\n",
      "(84,)\n"
     ]
    }
   ],
   "source": [
    "data = pd.read_csv('USA_Students.csv')\n",
    "print(data.describe())\n",
    "X=data['SAT']\n",
    "Y=data['GPA']\n",
    "print(data.shape)\n",
    "print(X.shape)"
   ]
  },
  {
   "cell_type": "markdown",
   "metadata": {
    "id": "pXTzCL1yq5Yj"
   },
   "source": [
    "## Plot the samples"
   ]
  },
  {
   "cell_type": "code",
   "execution_count": null,
   "metadata": {
    "colab": {
     "base_uri": "https://localhost:8080/",
     "height": 288
    },
    "id": "NntuwwQgq8IZ",
    "outputId": "9695f848-3dcd-4f26-d6b1-2d70f961500b"
   },
   "outputs": [
    {
     "data": {
      "image/png": "[encoded data removed]",
      "text/plain": [
       "<Figure size 432x288 with 1 Axes>"
      ]
     },
     "metadata": {
      "needs_background": "light"
     },
     "output_type": "display_data"
    }
   ],
   "source": [
    "plt.scatter(X, Y)\n",
    "plt.xlabel('SAT', fontsize = 20)\n",
    "plt.ylabel('GPA', fontsize = 20)\n",
    "plt.show()"
   ]
  },
  {
   "cell_type": "markdown",
   "metadata": {
    "id": "cXs7utKJq_Vj"
   },
   "source": [
    "## Hyper-prameters"
   ]
  },
  {
   "cell_type": "code",
   "execution_count": null,
   "metadata": {
    "id": "-iAcECVcrEE7"
   },
   "outputs": [],
   "source": [
    "L = 0.0000001  # The learning Rate\n",
    "epochs = 100  # The number of iterations to perform gradient descent\n",
    "m=0\n",
    "c=0\n",
    "n = float(len(X)) # Number of elements in X"
   ]
  },
  {
   "cell_type": "markdown",
   "metadata": {
    "id": "h7q5g-WmrHCg"
   },
   "source": [
    "## Gradient Descent Algorithm"
   ]
  },
  {
   "cell_type": "code",
   "execution_count": null,
   "metadata": {
    "id": "bvTWIbTarJ-Z"
   },
   "outputs": [],
   "source": [
    "for i in range(epochs):\n",
    "\n",
    "    # Step 1 : Calculate YHAT\n",
    "    Y_pred = m*X + c  # The current predicted value of Y\n",
    "    \n",
    "    # Step 2 : Get Gradients\n",
    "    D_m = (-2/n) * sum(X * (Y - Y_pred))  # Derivative wrt m\n",
    "    D_c = (-2/n) * sum(Y - Y_pred)  # Derivative wrt c\n",
    "    \n",
    "    # Step : Update\n",
    "    m = m - L * D_m  # Update m\n",
    "    c = c - L * D_c  # Update c"
   ]
  },
  {
   "cell_type": "markdown",
   "metadata": {
    "id": "HNt8biVHrLPB"
   },
   "source": [
    "## Evaluation"
   ]
  },
  {
   "cell_type": "code",
   "execution_count": null,
   "metadata": {
    "colab": {
     "base_uri": "https://localhost:8080/",
     "height": 305
    },
    "id": "xqNURTC9rOwj",
    "outputId": "9f5a9dff-e76b-419b-b440-2dbb3e9fa3a2"
   },
   "outputs": [
    {
     "data": {
      "image/png": "[encoded data removed]",
      "text/plain": [
       "<Figure size 432x288 with 1 Axes>"
      ]
     },
     "metadata": {
      "needs_background": "light"
     },
     "output_type": "display_data"
    },
    {
     "name": "stdout",
     "output_type": "stream",
     "text": [
      "Mean Square Error 0.043539966469155686\n"
     ]
    }
   ],
   "source": [
    "prediction=X*m+c\n",
    "plt.scatter(X, Y)\n",
    "plt.xlabel('SAT', fontsize = 20)\n",
    "plt.ylabel('GPA', fontsize = 20)\n",
    "plt.plot(X, prediction, color='red', linewidth = 3)\n",
    "plt.show()\n",
    "\n",
    "print('Mean Square Error', metrics.mean_squared_error(Y, prediction))"
   ]
  },
  {
   "cell_type": "markdown",
   "metadata": {
    "id": "AOAUQePPr0Jd"
   },
   "source": [
    "## Prediction"
   ]
  },
  {
   "cell_type": "code",
   "execution_count": null,
   "metadata": {
    "colab": {
     "base_uri": "https://localhost:8080/"
    },
    "id": "w6cQEOoArz0-",
    "outputId": "ce002707-8370-4da3-a55f-7b89628b940b"
   },
   "outputs": [
    {
     "name": "stdout",
     "output_type": "stream",
     "text": [
      "Enter your SAT score: 1900\n",
      "Your predicted GPA is 3.4281094590295123\n"
     ]
    }
   ],
   "source": [
    "#Predict your GPA based on your SAT Score\n",
    "STA_Score=int(input('Enter your SAT score: '))\n",
    "y_test=m*STA_Score + c\n",
    "print('Your predicted GPA is ' + str(float(y_test)))"
   ]
  },
  {
   "cell_type": "markdown",
   "metadata": {
    "id": "WHqX0Ajr9HGU"
   },
   "source": [
    "# Exercise 3"
   ]
  },
  {
   "cell_type": "markdown",
   "metadata": {
    "id": "K2xpDHTF9qlm"
   },
   "source": [
    "## Feature Encoding"
   ]
  },
  {
   "cell_type": "code",
   "execution_count": 2,
   "metadata": {
    "id": "UTn7M5DX9sTE"
   },
   "outputs": [],
   "source": [
    "from sklearn.preprocessing import LabelEncoder\n",
    "def Feature_Encoder(X,cols):\n",
    "    for c in cols:\n",
    "        lbl = LabelEncoder()\n",
    "        lbl.fit(list(X[c].values))\n",
    "        X[c] = lbl.transform(list(X[c].values))\n",
    "    return X"
   ]
  },
  {
   "cell_type": "markdown",
   "metadata": {
    "id": "yWuaAPV29wsS"
   },
   "source": [
    "## Data preprocessing"
   ]
  },
  {
   "cell_type": "code",
   "execution_count": 3,
   "metadata": {
    "colab": {
     "base_uri": "https://localhost:8080/",
     "height": 1000
    },
    "id": "0OM4se_a9LcM",
    "outputId": "045fe8cb-b3f2-44d1-937c-5e310b6582d6"
   },
   "outputs": [
    {
     "name": "stdout",
     "output_type": "stream",
     "text": [
      "       Age Nationality  Overall  Potential                 Club Position  \\\n",
      "0       31   Argentina       94         94         FC Barcelona       RF   \n",
      "1       33    Portugal       94         94             Juventus       ST   \n",
      "2       26      Brazil       92         93  Paris Saint-Germain       LW   \n",
      "3       27       Spain       91         93    Manchester United       GK   \n",
      "4       27     Belgium       91         92      Manchester City      RCM   \n",
      "...    ...         ...      ...        ...                  ...      ...   \n",
      "17950   19     England       47         65      Crewe Alexandra       CM   \n",
      "17951   19      Sweden       47         63       Trelleborgs FF       ST   \n",
      "17952   16     England       47         67     Cambridge United       ST   \n",
      "17953   17     England       47         66      Tranmere Rovers       RW   \n",
      "17954   16     England       46         66      Tranmere Rovers       CM   \n",
      "\n",
      "       Crossing  Finishing  HeadingAccuracy  ShortPassing  ...  Vision  \\\n",
      "0          84.0       95.0             70.0          90.0  ...    94.0   \n",
      "1          84.0       94.0             89.0          81.0  ...    82.0   \n",
      "2          79.0       87.0             62.0          84.0  ...    87.0   \n",
      "3          17.0       13.0             21.0          50.0  ...    68.0   \n",
      "4          93.0       82.0             55.0          92.0  ...    94.0   \n",
      "...         ...        ...              ...           ...  ...     ...   \n",
      "17950      34.0       38.0             40.0          49.0  ...    52.0   \n",
      "17951      23.0       52.0             52.0          43.0  ...    33.0   \n",
      "17952      25.0       40.0             46.0          38.0  ...    43.0   \n",
      "17953      44.0       50.0             39.0          42.0  ...    47.0   \n",
      "17954      41.0       34.0             46.0          48.0  ...    49.0   \n",
      "\n",
      "       Penalties  Composure  Marking  StandingTackle  SlidingTackle  GKDiving  \\\n",
      "0           75.0       96.0     33.0            28.0           26.0       6.0   \n",
      "1           85.0       95.0     28.0            31.0           23.0       7.0   \n",
      "2           81.0       94.0     27.0            24.0           33.0       9.0   \n",
      "3           40.0       68.0     15.0            21.0           13.0      90.0   \n",
      "4           79.0       88.0     68.0            58.0           51.0      15.0   \n",
      "...          ...        ...      ...             ...            ...       ...   \n",
      "17950       43.0       45.0     40.0            48.0           47.0      10.0   \n",
      "17951       43.0       42.0     22.0            15.0           19.0      10.0   \n",
      "17952       55.0       41.0     32.0            13.0           11.0       6.0   \n",
      "17953       50.0       46.0     20.0            25.0           27.0      14.0   \n",
      "17954       33.0       43.0     40.0            43.0           50.0      10.0   \n",
      "\n",
      "       GKHandling  GKKicking  GKPositioning  \n",
      "0            11.0       15.0           14.0  \n",
      "1            11.0       15.0           14.0  \n",
      "2             9.0       15.0           15.0  \n",
      "3            85.0       87.0           88.0  \n",
      "4            13.0        5.0           10.0  \n",
      "...           ...        ...            ...  \n",
      "17950        13.0        7.0            8.0  \n",
      "17951         9.0        9.0            5.0  \n",
      "17952         5.0       10.0            6.0  \n",
      "17953         6.0       14.0            8.0  \n",
      "17954        15.0        9.0           12.0  \n",
      "\n",
      "[17907 rows x 39 columns]\n"
     ]
    },
    {
     "data": {
      "image/png": "[encoded data removed]",
      "text/plain": [
       "<Figure size 864x576 with 2 Axes>"
      ]
     },
     "metadata": {
      "needs_background": "light"
     },
     "output_type": "display_data"
    }
   ],
   "source": [
    "# Import libraries\n",
    "import numpy as np\n",
    "import pandas as pd\n",
    "import seaborn as sns\n",
    "import matplotlib.pyplot as plt\n",
    "from sklearn import linear_model\n",
    "from sklearn import metrics\n",
    "from sklearn.model_selection import train_test_split\n",
    "\n",
    "# Pre-processing\n",
    "#Load players data\n",
    "data = pd.read_csv('F:/sprint course/session 4/Session 4/fifa19.csv')\n",
    "#Drop the rows that contain missing values\n",
    "data.dropna(how='any',inplace=True)\n",
    "fifa_data=data.iloc[:,:]\n",
    "X=data.iloc[:,1:40] #Features\n",
    "print(X)\n",
    "Y=data['Value'] #Label\n",
    "cols=('Nationality','Club','Position')\n",
    "X=Feature_Encoder(X,cols);\n",
    "\n",
    "#Split the data to training and testing sets\n",
    "X_train, X_test, y_train, y_test = train_test_split(X, Y, test_size = 0.30,shuffle=True)\n",
    "#Get the correlation between the features\n",
    "corr = fifa_data.corr()\n",
    "#Top 50% Correlation training features with the Value\n",
    "top_feature = corr.index[abs(corr['Value']>0.5)]\n",
    "#Correlation plot\n",
    "plt.subplots(figsize=(12, 8))\n",
    "top_corr = fifa_data[top_feature].corr()\n",
    "sns.heatmap(top_corr, annot=True)\n",
    "plt.show()"
   ]
  },
  {
   "cell_type": "markdown",
   "metadata": {
    "id": "Ztb9rLzz98bI"
   },
   "source": [
    "## Multiple Linear Regression"
   ]
  },
  {
   "cell_type": "code",
   "execution_count": 4,
   "metadata": {
    "id": "MON9RfRu-GBk"
   },
   "outputs": [],
   "source": [
    "cls = linear_model.LinearRegression()\n",
    "\n",
    "L = 0.0000001  # The learning Rate\n",
    "epochs = 1000  # The number of iterations to perform gradient descent\n",
    "m1=0\n",
    "m2=0\n",
    "m3=0\n",
    "c=0\n",
    "n = float(len(X_train)) # Number of elements in X\n",
    "for i in range(epochs):\n",
    "    # Student code\n",
    "    Y_pred = X[\"Overall\"]*m1 + X[\"Potential\"]*m2 + X[\"Reactions\"]*m3 + c\n",
    "    \n",
    "    D_m1 = (-2/n) * sum(X[\"Overall\"] * (Y - Y_pred))\n",
    "    D_m2 = (-2/n) * sum(X[\"Potential\"] * (Y - Y_pred))\n",
    "    D_m3 = (-2/n) * sum(X[\"Reactions\"] * (Y - Y_pred))\n",
    "    \n",
    "    D_c = (-2/n) * sum(Y - Y_pred)\n",
    "    # Student code\n",
    "    \n",
    "    m1 = m1 - L * D_m1\n",
    "    m2 = m2 - L * D_m2\n",
    "    m3 = m3 - L * D_m3\n",
    "    c = c - L * D_c"
   ]
  },
  {
   "cell_type": "markdown",
   "metadata": {
    "id": "FmBrijtU-UQi"
   },
   "source": [
    "## Prediction"
   ]
  },
  {
   "cell_type": "code",
   "execution_count": 5,
   "metadata": {
    "colab": {
     "base_uri": "https://localhost:8080/"
    },
    "id": "_Do_JSiF-VSh",
    "outputId": "e9bd336d-77f4-4b5b-9f06-884ef78ee697"
   },
   "outputs": [
    {
     "name": "stdout",
     "output_type": "stream",
     "text": [
      "Co-efficient of linear regression [-2.90712041e-01 -9.78593740e-04  5.69853614e-01  4.43234198e-02\n",
      "  3.06816047e-04 -6.33259469e-03 -2.00636574e-03  1.06385408e-02\n",
      " -1.71153281e-02 -1.42029544e-02  2.92606429e-02 -8.84644280e-03\n",
      " -2.76486710e-03  7.77134615e-03  8.93653588e-03 -4.63134205e-02\n",
      " -1.07142159e-02 -2.10950674e-03 -2.37416045e-02  5.76487921e-02\n",
      "  1.08913954e-02 -1.43541031e-02  1.46222434e-03 -4.06894149e-03\n",
      " -1.31111127e-02 -2.33898281e-02 -4.40459526e-03 -4.81203067e-03\n",
      "  1.36998886e-02  2.15494120e-02  8.03449935e-03  5.72106895e-03\n",
      "  1.81147129e-03  3.92754047e-03 -9.91634980e-03 -1.07774320e-02\n",
      " -8.72078010e-03 -6.09788868e-03 -2.97345773e-02]\n",
      "Intercept of linear regression model -28.539841407422553\n",
      "Mean Square Error 36.14154859547879\n",
      "Mean Square Error 2 19.79809365282815\n",
      "True value for the first player in the test set in millions is : 1.4\n",
      "Predicted value for the first player in the test set in millions is : 2.493622742202058\n"
     ]
    }
   ],
   "source": [
    "prediction=np.array(X_test)[:,0]*m1+np.array(X_test)[:,1]*m2+np.array(X_test)[:,2]*m3+c\n",
    "\n",
    "cls.fit(X_train,y_train)\n",
    "prediction2= cls.predict(X_test)\n",
    "\n",
    "print('Co-efficient of linear regression',cls.coef_)\n",
    "print('Intercept of linear regression model',cls.intercept_)\n",
    "print('Mean Square Error', metrics.mean_squared_error(np.asarray(y_test), prediction))\n",
    "print('Mean Square Error 2', metrics.mean_squared_error(np.asarray(y_test), prediction2))\n",
    "\n",
    "true_player_value=np.asarray(y_test)[1]\n",
    "predicted_player_value=prediction[1]\n",
    "\n",
    "print('True value for the first player in the test set in millions is : ' + str(true_player_value))\n",
    "print('Predicted value for the first player in the test set in millions is : ' + str(predicted_player_value))"
   ]
  },
  {
   "cell_type": "markdown",
   "metadata": {
    "id": "23JLL0Q3-WV4"
   },
   "source": [
    "## Polynomial Regression"
   ]
  },
  {
   "cell_type": "code",
   "execution_count": null,
   "metadata": {
    "colab": {
     "base_uri": "https://localhost:8080/",
     "height": 1000
    },
    "id": "rIpjp5CJ-Xrc",
    "outputId": "0a8b8b3a-978d-40da-ea5b-df077577fbe0"
   },
   "outputs": [
    {
     "data": {
      "image/png": "[encoded data removed]",
      "text/plain": [
       "<Figure size 864x576 with 2 Axes>"
      ]
     },
     "metadata": {
      "needs_background": "light"
     },
     "output_type": "display_data"
    },
    {
     "name": "stdout",
     "output_type": "stream",
     "text": [
      "Co-efficient of linear regression [ 2.50189658e-12  3.78630569e+00  4.64464143e-03 -5.79539748e+00\n",
      " -2.39608551e-02  4.37296308e-03  1.24955430e-01 -3.43120744e-02\n",
      " -2.12869210e-01  1.25460993e-02 -3.12279410e-02 -1.98854033e-01\n",
      "  2.93254116e-01  1.17649756e-01 -3.91292605e-01 -4.78464725e-02\n",
      "  1.10642099e-01  2.83253333e-02  5.17835482e-02  1.04616213e-01\n",
      " -4.11186860e-01 -5.83488662e-02  3.32651968e-01 -4.15845077e-02\n",
      " -6.61728233e-02  5.14665794e-03  1.34771852e-01  6.58300645e-02\n",
      " -3.42446211e-02 -2.22896629e-01 -1.23578528e-01 -1.01040772e-02\n",
      " -1.78016503e-02 -4.93955546e-02  1.15162819e-02  2.25512731e-01\n",
      "  2.73603171e-02  3.31034925e-01 -1.99408985e-01 -7.39406008e-02\n",
      " -1.38996743e-02  2.56655466e-04 -2.87266564e-02 -2.56301892e-02\n",
      " -7.51497719e-05  1.97692614e-04  2.87363586e-03 -1.08991836e-03\n",
      " -2.66893268e-04  2.35719044e-03 -2.86214958e-04  2.62173846e-03\n",
      " -1.66375155e-03  1.98966086e-03 -4.57977799e-03  2.65577925e-03\n",
      " -2.40753277e-03  2.21868633e-03 -9.23826308e-05 -2.56188255e-03\n",
      " -1.29011718e-03  2.21252090e-03  2.56281232e-03  1.09780470e-03\n",
      "  1.84183229e-03 -1.03915436e-03 -4.27080709e-04  5.96180091e-03\n",
      "  6.77362223e-04 -1.47026355e-04  1.14095839e-03 -4.09718888e-03\n",
      "  2.81787743e-03  3.82392700e-04 -5.51022424e-03  3.55831483e-03\n",
      " -1.19857077e-03  2.52551720e-03  3.24371225e-03 -1.45058272e-05\n",
      " -5.71548934e-04  1.35686576e-04 -2.01381788e-06  1.13095225e-04\n",
      "  1.42249915e-05  9.46428156e-05  9.81251494e-05  4.31801840e-05\n",
      "  9.59351637e-06  4.67663982e-05  2.40287238e-06 -4.36720104e-06\n",
      "  3.84923732e-05 -8.97440965e-05  3.00192478e-05  4.86413531e-05\n",
      "  4.47013789e-05 -1.89261638e-05 -9.59626872e-05  5.66283935e-05\n",
      "  1.69472014e-05 -2.48305219e-05 -6.02881384e-05 -6.22796330e-05\n",
      "  7.39092305e-05  2.05265307e-05 -4.58944085e-05 -4.31433243e-06\n",
      "  2.93236738e-06 -3.99301032e-05  1.34363434e-04  1.48093900e-04\n",
      " -1.75965984e-04 -1.86615961e-05  3.76250809e-05  2.73427571e-04\n",
      " -1.97241860e-05  6.07911246e-02  1.50049225e-02  2.87875575e-05\n",
      "  4.29827814e-04 -3.42475179e-03  9.91594129e-04 -1.80049437e-03\n",
      " -3.16572657e-03  4.82110034e-03 -6.30705360e-03  8.09056234e-04\n",
      "  1.34838350e-03  4.31975248e-03 -5.95558842e-03  6.98321668e-04\n",
      " -5.17088410e-03  6.87536912e-05  2.53170516e-03  1.81822050e-03\n",
      " -5.65446453e-03 -1.04994247e-03 -3.86165751e-04 -3.22286313e-03\n",
      "  1.21859968e-03 -1.86611285e-03 -2.27429715e-03  1.16971395e-03\n",
      " -7.00280901e-04 -1.70396630e-03  1.56203593e-03 -4.86704131e-03\n",
      " -4.33671920e-03  3.89521176e-03 -9.28250297e-03 -1.04764515e-03\n",
      " -7.92247726e-04 -1.06214114e-02 -3.57548707e-03 -5.62178210e-05\n",
      " -6.59485864e-04  2.04020855e-03  7.37169772e-04  1.18358687e-03\n",
      "  1.38049278e-03 -2.69481583e-04 -1.53055278e-03 -1.57387934e-03\n",
      "  3.03095715e-03 -1.49697930e-03  1.80663415e-03 -1.20897465e-03\n",
      "  1.05640163e-03 -1.30316289e-03  1.40123140e-03  6.69379830e-04\n",
      " -1.23101259e-03  4.17791030e-04 -1.82583334e-04  8.26050477e-04\n",
      " -2.42430222e-03 -5.06383749e-04  1.57216464e-03  1.38871193e-03\n",
      "  7.40981446e-04  2.26316577e-03 -3.14873846e-03  1.49305267e-03\n",
      "  2.87437257e-04 -3.16105083e-03  1.52658324e-03 -3.13871342e-03\n",
      "  3.96915713e-04  4.14443194e-03 -2.08463977e-06  1.49450611e-05\n",
      " -2.20220588e-05  4.66535350e-06 -1.83241023e-05 -3.81681416e-05\n",
      "  2.44902991e-08 -1.92587864e-06  8.90467434e-06 -3.64920681e-07\n",
      "  1.46899330e-05  4.94662981e-05  8.07632373e-06 -1.63283123e-05\n",
      "  2.20912934e-05  2.60994323e-05 -1.68554123e-05 -3.67049418e-06\n",
      " -2.11864107e-05  2.04304931e-06  1.50441963e-05 -6.57403088e-06\n",
      " -5.49921555e-06  6.05331068e-06 -8.47235908e-06 -2.61723016e-06\n",
      "  5.20693820e-06  1.90678841e-05 -1.50724964e-05 -3.60606041e-07\n",
      "  1.44821388e-05 -1.48959867e-05 -2.02336458e-05 -6.45498736e-06\n",
      "  3.26249598e-05 -4.37036184e-04 -5.20586203e-04 -1.21408355e-03\n",
      " -7.40979050e-04  1.22337494e-03 -3.08974451e-04  7.53907389e-04\n",
      "  7.22776501e-05 -6.13913179e-04  2.31412053e-04 -1.29795211e-03\n",
      "  3.89138408e-04 -6.63841659e-04  6.96351639e-04 -1.10287766e-05\n",
      " -7.13955937e-04 -1.14844185e-04 -2.65460836e-04 -5.24682390e-04\n",
      " -2.00124766e-04  6.85026418e-04 -5.28075450e-04  4.67871042e-05\n",
      "  2.25841368e-04  7.52131634e-05  4.37463555e-04  2.37997182e-04\n",
      " -4.73433681e-04  1.13656826e-03 -8.96745868e-04  1.70380061e-03\n",
      "  1.86013710e-03 -3.82453943e-04  1.13477980e-03  2.08289531e-04\n",
      " -5.59968166e-05  9.81640794e-04 -7.03535320e-04 -1.80378201e-04\n",
      "  1.70889503e-04  1.07857437e-04 -2.58234383e-04 -3.63864604e-04\n",
      " -5.67121246e-04  5.99605218e-04 -7.55477903e-04 -5.08982768e-04\n",
      "  1.37664693e-03  5.39224168e-04  4.69487745e-04 -1.02474718e-04\n",
      "  1.60819731e-04  3.16387379e-04 -3.99434069e-04  3.20913693e-04\n",
      " -1.65787874e-04  1.50219674e-04  1.68160137e-04 -2.42717766e-04\n",
      " -4.82187868e-04  3.76199677e-04 -7.38599915e-05 -5.99866413e-04\n",
      "  2.02237523e-04  1.84677566e-05 -1.12589258e-03  2.76693773e-04\n",
      "  2.30661822e-04 -1.91752459e-04  2.05691068e-04  3.96297821e-04\n",
      "  4.44312230e-04  6.86663563e-05  2.90038612e-04 -5.02952755e-04\n",
      " -1.60506455e-03  5.89829741e-04 -2.66320371e-04 -2.60169096e-04\n",
      "  8.31070035e-04  1.06453113e-05  3.30373993e-04  2.98691821e-04\n",
      "  2.56855904e-04  1.95383481e-04 -5.75107934e-04  4.32876893e-04\n",
      "  2.40125652e-04  2.29528615e-04 -1.32600949e-04 -1.62898860e-04\n",
      "  3.69903135e-04  7.09182814e-04 -4.02582532e-04 -2.15955137e-05\n",
      "  1.28017175e-03  7.02397949e-04 -4.04528426e-04 -1.34645271e-03\n",
      " -4.88409142e-04 -5.09695748e-04  1.87407740e-04 -3.84192940e-04\n",
      " -2.49588035e-04  1.31491698e-04 -1.23454000e-04  4.62519117e-06\n",
      "  6.90348305e-04 -2.60894668e-04 -3.95079989e-04  8.07289146e-04\n",
      " -1.96965216e-04  1.69130535e-04  1.73638725e-04  4.24173748e-04\n",
      " -5.13222107e-04 -6.21132502e-04  7.52435207e-04 -5.98338478e-04\n",
      " -3.00466243e-04  1.27691070e-03  4.36264068e-04 -3.26030670e-04\n",
      "  3.10413142e-04 -3.94349457e-04  1.48824665e-04 -9.74115516e-04\n",
      " -1.09025246e-03  4.19290055e-04  1.56858583e-03 -5.99933922e-05\n",
      " -8.97683358e-04  3.15876131e-04  6.62106319e-04 -4.98911847e-04\n",
      " -6.11885187e-04 -1.16619597e-03  6.90489323e-04  3.38858163e-04\n",
      " -1.92811101e-04 -5.73425846e-04 -1.10277692e-04  9.29533938e-04\n",
      "  3.16982747e-04 -5.67278373e-04  8.65984862e-04  6.63018871e-04\n",
      " -1.18719328e-03  1.38353437e-03  3.59972758e-04  6.72416972e-04\n",
      "  4.53089636e-04 -7.84332182e-04 -4.36318458e-04  5.30326841e-04\n",
      "  8.53207126e-04  1.78390281e-03  3.69669769e-04  1.09756162e-04\n",
      " -1.28743224e-03 -6.97181470e-06  7.75499901e-05  4.04433483e-04\n",
      "  1.79185650e-04  4.43140325e-05 -2.30261376e-04  1.20014159e-03\n",
      " -5.47501639e-04  7.07743646e-05 -1.76567879e-04 -2.98840160e-05\n",
      " -9.67914510e-04 -5.65234945e-04 -3.90003342e-04  5.14311084e-05\n",
      "  2.90163379e-04  9.99115482e-05 -5.25353866e-05 -3.92441839e-04\n",
      "  6.53433777e-04 -2.80501089e-04 -2.13516742e-04 -3.98138835e-05\n",
      "  5.85169865e-05 -6.89707738e-06 -7.56965791e-04  2.94704783e-04\n",
      "  9.71979854e-04 -1.01893352e-03  5.38851078e-04 -3.83040410e-04\n",
      " -4.39240241e-04  2.10309126e-04 -1.86861764e-04 -7.83662809e-04\n",
      "  8.22687067e-04 -8.02448517e-04 -8.12315571e-04  8.42929874e-05\n",
      "  1.16792890e-03  3.62691967e-04 -3.42102993e-04  3.72078730e-04\n",
      " -7.19243962e-04  3.64501060e-04  1.13073945e-03 -1.48957133e-04\n",
      " -7.67251350e-04  1.49127571e-04  5.38180286e-06 -4.21912648e-04\n",
      "  1.80283933e-04  9.92074965e-04  5.19565527e-04  2.20024616e-03\n",
      "  7.97495708e-04 -1.19349169e-03 -5.20406013e-04  4.39317640e-04\n",
      "  2.24330541e-04  1.45490719e-04 -1.59915406e-04 -1.39645472e-04\n",
      "  1.71481598e-04  5.65600097e-04 -1.63810827e-04 -9.40759552e-05\n",
      "  4.68122097e-05 -3.34822794e-04  2.11412023e-04  5.61856739e-05\n",
      " -6.66810385e-04  3.81246926e-04  6.50379376e-05 -2.59770575e-04\n",
      "  1.58497007e-04 -8.50524248e-05 -1.22540417e-04 -1.11225259e-03\n",
      "  1.06974938e-03 -5.90688009e-05  8.36553746e-05 -1.09977485e-03\n",
      "  2.69264706e-04  3.04186619e-05 -1.11134873e-04 -2.84573017e-04\n",
      "  7.97401570e-04 -2.37083366e-05  9.39675023e-05 -1.94114157e-04\n",
      " -1.03331174e-04 -9.23427860e-04  1.86012293e-04  8.54264082e-05\n",
      "  1.57670905e-04  1.71089786e-04  3.94859260e-04 -4.20442335e-04\n",
      "  4.16494643e-04 -3.44819426e-04 -1.15493612e-04  5.69438770e-04\n",
      "  1.22801927e-05  1.34021112e-03 -1.01929189e-03 -7.66534043e-04\n",
      " -1.05895069e-03  1.67485360e-03  7.09889989e-04 -2.88839386e-04\n",
      " -2.55335021e-04 -1.92236670e-04  1.15077607e-04 -1.77163553e-04\n",
      "  3.39496100e-04 -8.48282149e-05 -6.80136255e-05  1.74681146e-04\n",
      "  1.12299656e-04 -6.18594480e-04 -3.80157327e-04  3.53833278e-04\n",
      " -1.13530099e-03  5.89555606e-04 -1.93109107e-04  4.16503973e-04\n",
      "  1.33903486e-03  2.99028168e-04  2.94986097e-04  3.24293589e-04\n",
      " -4.77721618e-04  1.00940288e-04  2.67984893e-04 -1.92898323e-04\n",
      "  2.91793708e-04  7.69318092e-04  1.63858876e-04  1.51965601e-03\n",
      "  1.76543499e-04 -7.63222382e-04 -1.97683822e-04 -3.64724255e-04\n",
      "  5.69991544e-04 -7.13243750e-04  1.29940840e-03  3.31796420e-04\n",
      "  3.59198877e-04 -6.00520257e-04  6.19195462e-04  1.44012333e-03\n",
      " -1.44915854e-04  1.55596007e-03  1.79626870e-04 -1.51812160e-03\n",
      " -5.10843133e-04 -3.38644752e-03  1.85773463e-04  4.81964524e-03\n",
      " -5.35506306e-05  4.29910317e-04 -4.93477482e-05 -1.87446945e-04\n",
      " -2.94825468e-05 -8.75094412e-04  3.06006146e-04 -3.35507507e-06\n",
      " -4.89002450e-04  3.48716535e-04  9.11582372e-04 -2.37632606e-04\n",
      " -1.35213680e-03 -2.12030697e-04 -1.19769097e-03 -6.67994940e-05\n",
      "  6.07644470e-04 -1.35677584e-04 -7.36212292e-04  1.70406373e-03\n",
      " -5.58572047e-04  8.08948631e-04 -1.04955239e-03  3.75915398e-05\n",
      " -3.36258080e-04 -1.05324382e-05 -6.59634361e-04  5.63563338e-04\n",
      "  1.66962288e-04  1.53057002e-04  6.75702772e-04 -5.26533634e-04\n",
      " -7.08324243e-04  7.85989945e-04  8.78550767e-04 -4.92070482e-05\n",
      "  8.06568986e-04  7.72061190e-04 -3.96621698e-04 -2.47111294e-04\n",
      "  5.36058730e-04 -1.42677220e-03  1.90529502e-03  9.91038725e-04\n",
      " -3.90512762e-04 -2.48948251e-05 -8.58215277e-04  2.26712994e-04\n",
      "  2.40499381e-04  3.32669601e-04  1.38529776e-04 -3.75721311e-05\n",
      "  1.39060874e-04 -1.79278953e-04  1.89845841e-04 -2.22597125e-04\n",
      "  5.99763739e-04 -3.84384553e-04 -1.67336419e-04  1.58319493e-05\n",
      "  7.98471333e-04 -6.81092104e-04  5.50137964e-04 -1.29502634e-04\n",
      " -6.40607229e-04  3.14819183e-04  1.16733075e-03 -2.21701508e-04\n",
      " -4.13058780e-04  1.01687676e-04  5.01878870e-04 -6.47227069e-05\n",
      " -1.47970461e-04 -4.12224566e-05 -1.76162581e-03 -2.19035307e-04\n",
      " -2.08893122e-04 -6.10466073e-04  1.72407055e-03  3.59159539e-04\n",
      "  2.11774405e-04  2.74950119e-04 -9.52483828e-04 -1.03650639e-03\n",
      "  1.54476185e-03  1.22967986e-03  4.60081957e-05 -4.97137104e-04\n",
      " -2.23328569e-04  2.38237861e-04 -2.03617671e-05  2.76336582e-04\n",
      "  2.58455721e-04 -4.86799335e-04  8.64984709e-04 -5.12758064e-05\n",
      " -1.65682497e-04  3.55912527e-04  3.07772166e-04  1.00593178e-03\n",
      " -1.12036073e-03  7.28632105e-04 -1.56546073e-03 -3.39888896e-04\n",
      "  8.70108848e-04  5.66335652e-04 -1.42022534e-04  1.69796821e-04\n",
      " -3.34875549e-04 -5.28369745e-04  2.74790383e-04 -2.38429641e-04\n",
      " -4.59268333e-04 -2.25347615e-04 -3.45643180e-05 -1.14649577e-04\n",
      "  4.29899927e-04  6.08016945e-04 -9.84196566e-05  4.80550860e-04\n",
      "  2.21374885e-03 -5.56848314e-04 -6.16685915e-04 -5.35784251e-05\n",
      " -3.64784734e-04  2.38503676e-04  3.21501305e-04 -5.48801673e-05\n",
      " -6.85354484e-04 -2.18496627e-04 -8.32415027e-05 -2.56821451e-04\n",
      " -4.10094684e-05  1.83769437e-04 -3.85404345e-04  7.68607043e-04\n",
      "  1.20142150e-05  1.16813114e-04  2.04801569e-04 -5.76381179e-04\n",
      "  3.15855722e-04 -6.88334878e-08 -6.20873104e-04  4.96399847e-04\n",
      " -5.44653382e-04  1.24118458e-04  8.36771170e-05  3.29530921e-04\n",
      " -1.84320330e-04 -1.47099571e-05 -2.59443076e-04  1.24746502e-04\n",
      " -5.63338764e-05  7.65465343e-04 -1.10831883e-03  9.36686689e-04\n",
      " -1.23535864e-04  5.34678474e-04 -2.37413326e-05  1.08912584e-04\n",
      "  2.22667890e-04 -3.91764000e-05 -2.84427830e-04  7.55161507e-04\n",
      "  2.31362754e-04  1.59894431e-03 -1.39488130e-03  1.06822043e-03\n",
      "  2.08506628e-05 -7.57812457e-04  4.97269758e-04  2.31019960e-04\n",
      " -6.13321386e-04  8.67718643e-04  6.80399524e-05  1.22827512e-04\n",
      " -1.03442731e-04 -1.39296147e-04 -2.90280473e-04 -2.16526602e-04\n",
      "  8.59717068e-05  6.67781109e-04 -1.01804617e-03 -1.10084103e-03\n",
      "  7.11405090e-04 -1.13361594e-04  3.72560160e-04  1.27027625e-04\n",
      "  3.21496409e-04 -2.89604374e-04  9.15276644e-05  7.16321787e-05\n",
      "  4.39899846e-04 -1.03282825e-03  4.85729221e-04 -6.09502609e-04\n",
      "  7.90088335e-04  4.74772279e-04  1.45083604e-04 -7.10795211e-04\n",
      "  6.50647263e-04 -7.47516411e-04 -3.50365243e-04  7.28505430e-05\n",
      " -2.81529697e-04 -2.72611407e-04 -1.33629002e-04  7.39316908e-04\n",
      " -1.55508596e-06  1.98349005e-04  3.20492910e-05 -4.99853514e-05\n",
      " -2.36672542e-04 -1.32965738e-04  1.15374548e-04  8.11421286e-05\n",
      "  1.10475271e-03 -6.17578930e-04 -8.04577973e-04  9.50565242e-04\n",
      "  9.19658302e-04  2.74926615e-05  5.66629417e-05 -2.86838194e-04\n",
      " -2.78551190e-04  4.22598175e-04 -8.03632902e-04  2.74468661e-04\n",
      "  1.30135319e-03 -1.25409382e-04 -1.59845069e-04 -7.55279319e-05\n",
      " -4.45399204e-04 -4.88411032e-04 -1.74738937e-04  6.80259721e-04\n",
      "  2.97416675e-05 -6.03490657e-04  6.69056787e-04  6.36713162e-04\n",
      "  6.40009139e-04  3.22491339e-04 -8.95067644e-04  9.87031079e-04\n",
      "  5.99082639e-04 -2.93793502e-04 -5.26787393e-04  5.17624164e-04\n",
      " -4.79641987e-04 -5.62498245e-05  7.54364784e-05 -5.67337517e-04\n",
      "  5.80255051e-04  1.34337806e-03  3.91177067e-05  4.36812644e-05\n",
      " -1.33919723e-04  4.45837060e-03 -6.94492398e-04 -1.43776329e-03\n",
      " -1.16831011e-03 -1.40815051e-05 -1.90056396e-03  1.06005129e-03\n",
      "  3.71105655e-04 -3.59014593e-04 -1.46935108e-03  2.78002930e-03\n",
      "  1.83185409e-03  6.95435488e-04 -1.44666546e-03 -1.30144168e-03\n",
      "  7.70987932e-04 -1.50394443e-04  5.38284410e-04  2.31111649e-04]\n",
      "Intercept of linear regression model 138.10569684992768\n",
      "Mean Square Error 5.157647216901045\n",
      "True value for the first player in the test set in millions is : 1.2\n",
      "Predicted value for the first player in the test set in millions is : 1.84996787959534\n"
     ]
    }
   ],
   "source": [
    "import numpy as np\n",
    "import pandas as pd\n",
    "import seaborn as sns\n",
    "import matplotlib.pyplot as plt\n",
    "from sklearn import linear_model\n",
    "from sklearn import metrics\n",
    "from sklearn.model_selection import train_test_split\n",
    "from sklearn.preprocessing import PolynomialFeatures\n",
    "\n",
    "#Load players data\n",
    "data = pd.read_csv('fifa19.csv')\n",
    "#Drop the rows that contain missing values\n",
    "data.dropna(how='any',inplace=True)\n",
    "fifa_data=data.iloc[:,:]\n",
    "X=data.iloc[:,1:40] #Features\n",
    "Y=data['Value'] #Label\n",
    "cols=('Nationality','Club','Position')\n",
    "X=Feature_Encoder(X,cols);\n",
    "\n",
    "#Split the data to training and testing sets\n",
    "X_train, X_test, y_train, y_test = train_test_split(X, Y, test_size = 0.30)\n",
    "#Get the correlation between the features\n",
    "corr = fifa_data.corr()\n",
    "#Top 50% Correlation training features with the Value\n",
    "top_feature = corr.index[abs(corr['Value']>0.5)]\n",
    "#Correlation plot\n",
    "plt.subplots(figsize=(12, 8))\n",
    "top_corr = fifa_data[top_feature].corr()\n",
    "sns.heatmap(top_corr, annot=True)\n",
    "plt.show()\n",
    "\n",
    "poly_features = PolynomialFeatures(degree=2)\n",
    "\n",
    "# transforms the existing features to higher degree features.\n",
    "X_train_poly = poly_features.fit_transform(X_train)\n",
    "\n",
    "# fit the transformed features to Linear Regression\n",
    "poly_model = linear_model.LinearRegression()\n",
    "poly_model.fit(X_train_poly, y_train)\n",
    "\n",
    "# predicting on training data-set\n",
    "y_train_predicted = poly_model.predict(X_train_poly)\n",
    "\n",
    "# predicting on test data-set\n",
    "prediction = poly_model.predict(poly_features.fit_transform(X_test))\n",
    "\n",
    "\n",
    "print('Co-efficient of linear regression',poly_model.coef_)\n",
    "print('Intercept of linear regression model',poly_model.intercept_)\n",
    "print('Mean Square Error', metrics.mean_squared_error(y_test, prediction))\n",
    "\n",
    "true_player_value=np.asarray(y_test)[0]\n",
    "predicted_player_value=prediction[0]\n",
    "print('True value for the first player in the test set in millions is : ' + str(true_player_value))\n",
    "print('Predicted value for the first player in the test set in millions is : ' + str(predicted_player_value))"
   ]
  }
 ],
 "metadata": {
  "accelerator": "GPU",
  "colab": {
   "collapsed_sections": [],
   "name": "Session 4 - Machine Learning Basics.ipynb",
   "provenance": []
  },
  "gpuClass": "standard",
  "kernelspec": {
   "display_name": "Python 3 (ipykernel)",
   "language": "python",
   "name": "python3"
  },
  "language_info": {
   "codemirror_mode": {
    "name": "ipython",
    "version": 3
   },
   "file_extension": ".py",
   "mimetype": "text/x-python",
   "name": "python",
   "nbconvert_exporter": "python",
   "pygments_lexer": "ipython3",
   "version": "3.9.12"
  }
 },
 "nbformat": 4,
 "nbformat_minor": 1
}
